{
 "cells": [
  {
   "attachments": {},
   "cell_type": "markdown",
   "metadata": {},
   "source": [
    "## Project 3: Trading Bot\n",
    "\n",
    "### Prompt\n",
    "\n",
    "*\"You've just determined a winning stock market trading strategy. The problem? It requires you to make trades extremely precisely -- with little room for error. Build your own algorithmic trading bot -- capable of responding to incoming market data in real-time.\"*\n",
    "\n",
    "### Approach\n",
    "\n",
    "I'm going to recreate [this notebook](https://github.com/ORE93/Automated-Algorithmic-Trading-Bot/blob/main/Algo_trade.ipynb) and then see if I can improve on their results. Their solution relies on the [Alpaca trade API](https://docs.alpaca.markets/docs/getting-started-with-trading-api), which in turn relies on Python 3.10, so I switched to a new virtual environment using [Miniconda](https://docs.conda.io/en/latest/miniconda.html) and [these packages](./requirements-conda.txt)."
   ]
  },
  {
   "cell_type": "code",
   "execution_count": 8,
   "metadata": {},
   "outputs": [],
   "source": [
    "import pandas\n",
    "import numpy\n",
    "import json\n",
    "from alpaca.trading.client import TradingClient"
   ]
  },
  {
   "cell_type": "code",
   "execution_count": 12,
   "metadata": {},
   "outputs": [],
   "source": [
    "with open('./api/alpaca-paper.json') as keyfile: api = json.load(keyfile)\n",
    "endpoint = TradingClient(api['KEY'], api['SECRET'], paper=True)"
   ]
  },
  {
   "cell_type": "code",
   "execution_count": 11,
   "metadata": {},
   "outputs": [],
   "source": [
    "# client.get_account()"
   ]
  }
 ],
 "metadata": {
  "kernelspec": {
   "display_name": ".venv",
   "language": "python",
   "name": "python3"
  },
  "language_info": {
   "codemirror_mode": {
    "name": "ipython",
    "version": 3
   },
   "file_extension": ".py",
   "mimetype": "text/x-python",
   "name": "python",
   "nbconvert_exporter": "python",
   "pygments_lexer": "ipython3",
   "version": "3.10.11"
  },
  "orig_nbformat": 4
 },
 "nbformat": 4,
 "nbformat_minor": 2
}
