{
 "cells": [
  {
   "attachments": {},
   "cell_type": "markdown",
   "metadata": {},
   "source": [
    "## Project 3: Trading Bot\n",
    "\n",
    "### Prompt\n",
    "\n",
    "*\"You've just determined a winning stock market trading strategy. The problem? It requires you to make trades extremely precisely -- with little room for error. Build your own algorithmic trading bot -- capable of responding to incoming market data in real-time.\"*\n",
    "\n",
    "### Approach\n",
    "\n",
    "TBD"
   ]
  },
  {
   "cell_type": "code",
   "execution_count": null,
   "metadata": {
    "vscode": {
     "languageId": "plaintext"
    }
   },
   "outputs": [],
   "source": []
  }
 ],
 "metadata": {
  "language_info": {
   "name": "python"
  },
  "orig_nbformat": 4
 },
 "nbformat": 4,
 "nbformat_minor": 2
}
