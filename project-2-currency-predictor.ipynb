{
 "cells": [
  {
   "attachments": {},
   "cell_type": "markdown",
   "metadata": {},
   "source": [
    "## Project 2: Currency Predictor\n",
    "\n",
    "### Prompt\n",
    "\n",
    "*\"Large companies often deal with foreign currency transactions while doing international business, and as a result, they are always looking for anything that can help them better understand the future direction and risk of various currencies. In this exercise, you will predict future movements in the value of the Japanese yen versus the U.S. dollar.\"*\n",
    "\n",
    "### Approach\n",
    "\n",
    "I'll take a first pass using what I've learned from the module 2 guides, and then see if I can find public notebooks to compare against for gap analysis.\n",
    "\n",
    "The first step is finding the data. Luckily, [WSJ has historical prices for the USDJPY pair in a downloadable CSV](https://www.wsj.com/market-data/quotes/fx/USDJPY/historical-prices). I selected data from 1/1/2000 through 1/1/2023 as an initial sample, but we'll see how much I actually got.\n"
   ]
  },
  {
   "cell_type": "code",
   "execution_count": 1,
   "metadata": {},
   "outputs": [],
   "source": [
    "import pandas\n",
    "data = pandas.read_csv('./data/USDJPY HistoricalPrices.csv', engine='python')"
   ]
  },
  {
   "cell_type": "code",
   "execution_count": 2,
   "metadata": {},
   "outputs": [
    {
     "data": {
      "text/html": [
       "<div>\n",
       "<style scoped>\n",
       "    .dataframe tbody tr th:only-of-type {\n",
       "        vertical-align: middle;\n",
       "    }\n",
       "\n",
       "    .dataframe tbody tr th {\n",
       "        vertical-align: top;\n",
       "    }\n",
       "\n",
       "    .dataframe thead th {\n",
       "        text-align: right;\n",
       "    }\n",
       "</style>\n",
       "<table border=\"1\" class=\"dataframe\">\n",
       "  <thead>\n",
       "    <tr style=\"text-align: right;\">\n",
       "      <th></th>\n",
       "      <th>Date</th>\n",
       "      <th>Open</th>\n",
       "      <th>High</th>\n",
       "      <th>Low</th>\n",
       "      <th>Close</th>\n",
       "    </tr>\n",
       "  </thead>\n",
       "  <tbody>\n",
       "    <tr>\n",
       "      <th>0</th>\n",
       "      <td>12/30/22</td>\n",
       "      <td>133.02</td>\n",
       "      <td>133.09</td>\n",
       "      <td>130.78</td>\n",
       "      <td>131.12</td>\n",
       "    </tr>\n",
       "    <tr>\n",
       "      <th>1</th>\n",
       "      <td>12/29/22</td>\n",
       "      <td>134.46</td>\n",
       "      <td>134.46</td>\n",
       "      <td>132.88</td>\n",
       "      <td>133.03</td>\n",
       "    </tr>\n",
       "    <tr>\n",
       "      <th>2</th>\n",
       "      <td>12/28/22</td>\n",
       "      <td>133.50</td>\n",
       "      <td>134.50</td>\n",
       "      <td>133.38</td>\n",
       "      <td>134.48</td>\n",
       "    </tr>\n",
       "    <tr>\n",
       "      <th>3</th>\n",
       "      <td>12/27/22</td>\n",
       "      <td>132.88</td>\n",
       "      <td>133.59</td>\n",
       "      <td>132.63</td>\n",
       "      <td>133.50</td>\n",
       "    </tr>\n",
       "    <tr>\n",
       "      <th>4</th>\n",
       "      <td>12/26/22</td>\n",
       "      <td>132.76</td>\n",
       "      <td>133.24</td>\n",
       "      <td>132.31</td>\n",
       "      <td>132.88</td>\n",
       "    </tr>\n",
       "  </tbody>\n",
       "</table>\n",
       "</div>"
      ],
      "text/plain": [
       "       Date    Open    High     Low   Close\n",
       "0  12/30/22  133.02  133.09  130.78  131.12\n",
       "1  12/29/22  134.46  134.46  132.88  133.03\n",
       "2  12/28/22  133.50  134.50  133.38  134.48\n",
       "3  12/27/22  132.88  133.59  132.63  133.50\n",
       "4  12/26/22  132.76  133.24  132.31  132.88"
      ]
     },
     "execution_count": 2,
     "metadata": {},
     "output_type": "execute_result"
    }
   ],
   "source": [
    "data.head()"
   ]
  },
  {
   "cell_type": "code",
   "execution_count": 3,
   "metadata": {},
   "outputs": [
    {
     "data": {
      "text/html": [
       "<div>\n",
       "<style scoped>\n",
       "    .dataframe tbody tr th:only-of-type {\n",
       "        vertical-align: middle;\n",
       "    }\n",
       "\n",
       "    .dataframe tbody tr th {\n",
       "        vertical-align: top;\n",
       "    }\n",
       "\n",
       "    .dataframe thead th {\n",
       "        text-align: right;\n",
       "    }\n",
       "</style>\n",
       "<table border=\"1\" class=\"dataframe\">\n",
       "  <thead>\n",
       "    <tr style=\"text-align: right;\">\n",
       "      <th></th>\n",
       "      <th>Date</th>\n",
       "      <th>Open</th>\n",
       "      <th>High</th>\n",
       "      <th>Low</th>\n",
       "      <th>Close</th>\n",
       "    </tr>\n",
       "  </thead>\n",
       "  <tbody>\n",
       "    <tr>\n",
       "      <th>4388</th>\n",
       "      <td>03/07/06</td>\n",
       "      <td>117.58</td>\n",
       "      <td>117.85</td>\n",
       "      <td>117.58</td>\n",
       "      <td>117.85</td>\n",
       "    </tr>\n",
       "    <tr>\n",
       "      <th>4389</th>\n",
       "      <td>03/06/06</td>\n",
       "      <td>116.38</td>\n",
       "      <td>117.58</td>\n",
       "      <td>116.38</td>\n",
       "      <td>117.58</td>\n",
       "    </tr>\n",
       "    <tr>\n",
       "      <th>4390</th>\n",
       "      <td>03/03/06</td>\n",
       "      <td>115.86</td>\n",
       "      <td>116.38</td>\n",
       "      <td>115.86</td>\n",
       "      <td>116.38</td>\n",
       "    </tr>\n",
       "    <tr>\n",
       "      <th>4391</th>\n",
       "      <td>03/02/06</td>\n",
       "      <td>116.08</td>\n",
       "      <td>116.08</td>\n",
       "      <td>115.86</td>\n",
       "      <td>115.86</td>\n",
       "    </tr>\n",
       "    <tr>\n",
       "      <th>4392</th>\n",
       "      <td>03/01/06</td>\n",
       "      <td>116.08</td>\n",
       "      <td>116.08</td>\n",
       "      <td>116.08</td>\n",
       "      <td>116.08</td>\n",
       "    </tr>\n",
       "  </tbody>\n",
       "</table>\n",
       "</div>"
      ],
      "text/plain": [
       "          Date    Open    High     Low   Close\n",
       "4388  03/07/06  117.58  117.85  117.58  117.85\n",
       "4389  03/06/06  116.38  117.58  116.38  117.58\n",
       "4390  03/03/06  115.86  116.38  115.86  116.38\n",
       "4391  03/02/06  116.08  116.08  115.86  115.86\n",
       "4392  03/01/06  116.08  116.08  116.08  116.08"
      ]
     },
     "execution_count": 3,
     "metadata": {},
     "output_type": "execute_result"
    }
   ],
   "source": [
    "data.tail()"
   ]
  },
  {
   "attachments": {},
   "cell_type": "markdown",
   "metadata": {},
   "source": [
    "Looks like it only goes back to March '06. All in all, not bad."
   ]
  },
  {
   "cell_type": "code",
   "execution_count": null,
   "metadata": {},
   "outputs": [],
   "source": []
  }
 ],
 "metadata": {
  "kernelspec": {
   "display_name": ".venv",
   "language": "python",
   "name": "python3"
  },
  "language_info": {
   "codemirror_mode": {
    "name": "ipython",
    "version": 3
   },
   "file_extension": ".py",
   "mimetype": "text/x-python",
   "name": "python",
   "nbconvert_exporter": "python",
   "pygments_lexer": "ipython3",
   "version": "3.11.2"
  },
  "orig_nbformat": 4
 },
 "nbformat": 4,
 "nbformat_minor": 2
}
